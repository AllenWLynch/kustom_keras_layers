{
 "cells": [
  {
   "cell_type": "code",
   "execution_count": 1,
   "metadata": {},
   "outputs": [
    {
     "name": "stdout",
     "output_type": "stream",
     "text": [
      "README.md\n",
      "Transformer_Architecture.ipynb\n",
      "Transformer_training.ipynb\n",
      "__pycache__\n",
      "test.py\n",
      "tf_transformer.py\n"
     ]
    }
   ],
   "source": [
    "!ls"
   ]
  },
  {
   "cell_type": "code",
   "execution_count": 2,
   "metadata": {},
   "outputs": [],
   "source": [
    "import tensorflow as tf\n",
    "import tensorflow_datasets as tfds"
   ]
  },
  {
   "cell_type": "code",
   "execution_count": 7,
   "metadata": {
    "scrolled": true
   },
   "outputs": [
    {
     "name": "stderr",
     "output_type": "stream",
     "text": [
      "WARNING:absl:Warning: Setting shuffle_files=True because split=TRAIN and shuffle_files=None. This behavior will be deprecated on 2019-08-06, at which point shuffle_files=False will be the default for all splits.\n"
     ]
    }
   ],
   "source": [
    "xamples, metadata = tfds.load('ted_hrlr_translate/pt_to_en', with_info=True,\n",
    "                               as_supervised=True)\n",
    "train_examples, val_examples = xamples['train'], xamples['validation']"
   ]
  },
  {
   "cell_type": "code",
   "execution_count": 8,
   "metadata": {},
   "outputs": [],
   "source": [
    "tokenizer_en = tfds.features.text.SubwordTextEncoder.build_from_corpus(\n",
    "    (en.numpy() for pt, en in train_examples), target_vocab_size=2**13)\n",
    "\n",
    "tokenizer_pt = tfds.features.text.SubwordTextEncoder.build_from_corpus(\n",
    "    (pt.numpy() for pt, en in train_examples), target_vocab_size=2**13)"
   ]
  },
  {
   "cell_type": "code",
   "execution_count": 9,
   "metadata": {},
   "outputs": [
    {
     "name": "stdout",
     "output_type": "stream",
     "text": [
      "Tokenized string is [7915, 1248, 7946, 7194, 13, 2799, 7877]\n",
      "The original string: Transformer is awesome.\n"
     ]
    }
   ],
   "source": [
    "sample_string = 'Transformer is awesome.'\n",
    "\n",
    "tokenized_string = tokenizer_en.encode(sample_string)\n",
    "print ('Tokenized string is {}'.format(tokenized_string))\n",
    "\n",
    "original_string = tokenizer_en.decode(tokenized_string)\n",
    "print ('The original string: {}'.format(original_string))\n",
    "\n",
    "assert original_string == sample_string"
   ]
  },
  {
   "cell_type": "code",
   "execution_count": 112,
   "metadata": {},
   "outputs": [],
   "source": [
    "BUFFER_SIZE = 20000\n",
    "BATCH_SIZE = 64\n",
    "EPOCHS = 100"
   ]
  },
  {
   "cell_type": "code",
   "execution_count": 16,
   "metadata": {},
   "outputs": [],
   "source": [
    "def encode(lang1, lang2):\n",
    "    lang1 = [tokenizer_pt.vocab_size] + tokenizer_pt.encode(\n",
    "      lang1.numpy()) + [tokenizer_pt.vocab_size+1]\n",
    "\n",
    "    lang2 = [tokenizer_en.vocab_size] + tokenizer_en.encode(lang2.numpy()) + [tokenizer_en.vocab_size+1]\n",
    "    return lang1, lang2"
   ]
  },
  {
   "cell_type": "code",
   "execution_count": 17,
   "metadata": {},
   "outputs": [],
   "source": [
    "MAX_LENGTH = 40"
   ]
  },
  {
   "cell_type": "code",
   "execution_count": 18,
   "metadata": {},
   "outputs": [],
   "source": [
    "def filter_max_length(x, y, max_length=MAX_LENGTH):\n",
    "    return tf.logical_and(tf.size(x) <= max_length,\n",
    "                        tf.size(y) <= max_length)"
   ]
  },
  {
   "cell_type": "code",
   "execution_count": 19,
   "metadata": {},
   "outputs": [],
   "source": [
    "def tf_encode(pt, en):\n",
    "    return tf.py_function(encode, [pt, en], [tf.int64, tf.int64])"
   ]
  },
  {
   "cell_type": "code",
   "execution_count": 20,
   "metadata": {},
   "outputs": [],
   "source": [
    "train_dataset = train_examples.map(tf_encode)\n",
    "train_dataset = train_dataset.filter(filter_max_length)\n",
    "# cache the dataset to memory to get a speedup while reading from it.\n",
    "train_dataset = train_dataset.cache()\n",
    "train_dataset = train_dataset.shuffle(BUFFER_SIZE).padded_batch(\n",
    "    BATCH_SIZE, padded_shapes=([-1], [-1]))\n",
    "train_dataset = train_dataset.prefetch(tf.data.experimental.AUTOTUNE)\n",
    "\n",
    "\n",
    "val_dataset = val_examples.map(tf_encode)\n",
    "val_dataset = val_dataset.filter(filter_max_length).padded_batch(\n",
    "    BATCH_SIZE, padded_shapes=([-1], [-1]))"
   ]
  },
  {
   "cell_type": "code",
   "execution_count": 78,
   "metadata": {},
   "outputs": [
    {
     "data": {
      "text/plain": [
       "(<tf.Tensor: id=546744, shape=(64, 40), dtype=int64, numpy=\n",
       " array([[8214,   67,   92, ...,    0,    0,    0],\n",
       "        [8214,   11,  560, ...,    0,    0,    0],\n",
       "        [8214,    6,   42, ...,    0,    0,    0],\n",
       "        ...,\n",
       "        [8214,   23,   88, ...,    0,    0,    0],\n",
       "        [8214, 5079,   12, ...,    0,    0,    0],\n",
       "        [8214,   42,   13, ...,    0,    0,    0]], dtype=int64)>,\n",
       " <tf.Tensor: id=546745, shape=(64, 40), dtype=int64, numpy=\n",
       " array([[8087,   94,  119, ...,    0,    0,    0],\n",
       "        [8087,    5, 7799, ...,    0,    0,    0],\n",
       "        [8087,    4, 1644, ...,    0,    0,    0],\n",
       "        ...,\n",
       "        [8087,   18,   83, ...,    0,    0,    0],\n",
       "        [8087,  190,    8, ...,    0,    0,    0],\n",
       "        [8087,  111,    1, ...,    0,    0,    0]], dtype=int64)>)"
      ]
     },
     "execution_count": 78,
     "metadata": {},
     "output_type": "execute_result"
    }
   ],
   "source": [
    "pt_batch, en_batch = next(iter(train_dataset))\n",
    "pt_batch, en_batch"
   ]
  },
  {
   "cell_type": "code",
   "execution_count": 46,
   "metadata": {},
   "outputs": [
    {
     "name": "stdout",
     "output_type": "stream",
     "text": [
      "Loading New Transformer Models\n"
     ]
    }
   ],
   "source": [
    "import importlib\n",
    "import tf_transformer"
   ]
  },
  {
   "cell_type": "code",
   "execution_count": 113,
   "metadata": {},
   "outputs": [
    {
     "name": "stdout",
     "output_type": "stream",
     "text": [
      "Loading Transformer Module\n"
     ]
    }
   ],
   "source": [
    "# HYPERPARAMETERS\n",
    "tf_transformer = importlib.reload(tf_transformer)\n",
    "num_layers = 4\n",
    "d_model = 256\n",
    "dff = 1024\n",
    "num_heads = 8\n",
    "input_vocab_size = tokenizer_pt.vocab_size + 2\n",
    "target_vocab_size = tokenizer_en.vocab_size + 2\n",
    "dropout_rate = 0.1\n",
    "\n",
    "model = tf_transformer.Transformer(input_vocab_size, target_vocab_size, \n",
    "                                   d_model = d_model, num_heads = num_heads, num_layers = num_layers,\n",
    "                                   dff = dff, dropout = dropout_rate)"
   ]
  },
  {
   "cell_type": "code",
   "execution_count": null,
   "metadata": {},
   "outputs": [
    {
     "name": "stdout",
     "output_type": "stream",
     "text": [
      "-- EPOCH  0  --\n",
      "\tBatch 703, Loss: 5.76744593\n",
      "\n",
      "\tValidation loss: 5.71678\n",
      "-- EPOCH  1  --\n",
      "\tBatch 703, Loss: 4.97016723\n",
      "\n",
      "\tValidation loss: 4.89051\n",
      "-- EPOCH  2  --\n",
      "\tBatch 703, Loss: 4.61345079\n",
      "\n",
      "\tValidation loss: 4.58050\n",
      "-- EPOCH  3  --\n",
      "\tBatch 703, Loss: 4.43890161\n",
      "\n",
      "\tValidation loss: 4.36067\n",
      "-- EPOCH  4  --\n",
      "\tBatch 703, Loss: 4.26140932\n",
      "\n",
      "\tValidation loss: 4.20199\n",
      "-- EPOCH  5  --\n",
      "\tBatch 703, Loss: 4.10539548\n",
      "\n",
      "\tValidation loss: 4.04393\n",
      "-- EPOCH  6  --\n",
      "\tBatch 703, Loss: 3.99264248\n",
      "\n",
      "\tValidation loss: 3.82296\n",
      "-- EPOCH  7  --\n",
      "\tBatch 703, Loss: 3.70851607\n",
      "\n",
      "\tValidation loss: 3.63166\n",
      "-- EPOCH  8  --\n",
      "\tBatch 703, Loss: 3.58518097\n",
      "\n",
      "\tValidation loss: 3.41145\n",
      "-- EPOCH  9  --\n",
      "\tBatch 703, Loss: 3.45262768\n",
      "\n",
      "\tValidation loss: 3.21457\n",
      "-- EPOCH  10  --\n",
      "\tBatch 703, Loss: 3.29081900\n",
      "\n",
      "\tValidation loss: 3.03516\n",
      "-- EPOCH  11  --\n",
      "\tBatch 703, Loss: 3.16420695\n",
      "\n",
      "\tValidation loss: 2.88559\n",
      "-- EPOCH  12  --\n",
      "\tBatch 703, Loss: 3.07432368\n",
      "\n",
      "\tValidation loss: 2.71122\n",
      "-- EPOCH  13  --\n",
      "\tBatch 703, Loss: 2.94018526\n",
      "\n",
      "\tValidation loss: 2.57100\n",
      "-- EPOCH  14  --\n",
      "\tBatch 703, Loss: 2.78386739\n",
      "\n",
      "\tValidation loss: 2.42912\n",
      "-- EPOCH  15  --\n",
      "\tBatch 703, Loss: 2.66215645\n",
      "\n",
      "\tValidation loss: 2.29442\n",
      "-- EPOCH  16  --\n",
      "\tBatch 703, Loss: 2.59000068\n",
      "\n",
      "\tValidation loss: 2.17693\n",
      "-- EPOCH  17  --\n",
      "\tBatch 703, Loss: 2.55551420\n",
      "\n",
      "\tValidation loss: 2.05902\n",
      "-- EPOCH  18  --\n",
      "\tBatch 703, Loss: 2.4673294\n",
      "\n",
      "\tValidation loss: 1.96674\n",
      "-- EPOCH  19  --\n",
      "\tBatch 703, Loss: 2.3494624\n",
      "\n",
      "\tValidation loss: 1.87221\n",
      "-- EPOCH  20  --\n",
      "\tBatch 703, Loss: 2.3234487\n",
      "\n",
      "\tValidation loss: 1.78763\n",
      "-- EPOCH  21  --\n",
      "\tBatch 703, Loss: 2.2532940\n",
      "\n",
      "\tValidation loss: 1.71363\n",
      "-- EPOCH  22  --\n",
      "\tBatch 703, Loss: 2.1734739\n",
      "\n",
      "\tValidation loss: 1.62367\n",
      "-- EPOCH  23  --\n",
      "\tBatch 703, Loss: 2.0946069\n",
      "\n",
      "\tValidation loss: 1.55234\n",
      "-- EPOCH  24  --\n",
      "\tBatch 703, Loss: 2.1011112\n",
      "\n",
      "\tValidation loss: 1.47940\n",
      "-- EPOCH  25  --\n",
      "\tBatch 703, Loss: 2.0562151\n",
      "\n",
      "\tValidation loss: 1.40741\n",
      "-- EPOCH  26  --\n",
      "\tBatch 703, Loss: 1.9735531\n",
      "\n",
      "\tValidation loss: 1.34876\n",
      "-- EPOCH  27  --\n",
      "\tBatch 703, Loss: 1.8731166\n",
      "\n",
      "\tValidation loss: 1.28756\n",
      "-- EPOCH  28  --\n",
      "\tBatch 665, Loss: 1.8515407\r"
     ]
    }
   ],
   "source": [
    "epoch_losses = []\n",
    "try:\n",
    "    for epoch in range(EPOCHS):\n",
    "        print('-- EPOCH ', epoch ,' --')\n",
    "        epoch_loss = model.fit_on_tfds(train_dataset)\n",
    "        epoch_losses.append(epoch_loss)\n",
    "        \n",
    "        validation_loss = model.fit_on_tfds(val_dataset, train = False)\n",
    "        print('\\tValidation loss: {0:.5f}'.format(validation_loss))\n",
    "        \n",
    "except KeyboardInterrupt:\n",
    "    print('Training interupted!')"
   ]
  },
  {
   "cell_type": "code",
   "execution_count": null,
   "metadata": {},
   "outputs": [],
   "source": [
    "model.model.save_weights('./weights/transformer_100_epochs', save_format = 'tf')"
   ]
  },
  {
   "cell_type": "code",
   "execution_count": null,
   "metadata": {},
   "outputs": [],
   "source": []
  }
 ],
 "metadata": {
  "kernelspec": {
   "display_name": "tf_experimental",
   "language": "python",
   "name": "tf_experimental"
  },
  "language_info": {
   "codemirror_mode": {
    "name": "ipython",
    "version": 3
   },
   "file_extension": ".py",
   "mimetype": "text/x-python",
   "name": "python",
   "nbconvert_exporter": "python",
   "pygments_lexer": "ipython3",
   "version": "3.7.5"
  }
 },
 "nbformat": 4,
 "nbformat_minor": 2
}
